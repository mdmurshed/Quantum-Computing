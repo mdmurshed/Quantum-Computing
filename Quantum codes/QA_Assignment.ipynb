{
 "cells": [
  {
   "cell_type": "code",
   "execution_count": 6,
   "id": "8db96e08-1f88-44e5-9080-78c96ed5c3d3",
   "metadata": {},
   "outputs": [],
   "source": [
    "my_list = [1,3,5,2,4,9,5,8,0,7,6]"
   ]
  },
  {
   "cell_type": "code",
   "execution_count": 7,
   "id": "84dba829-5985-4ffc-8604-574b15d7d93e",
   "metadata": {},
   "outputs": [],
   "source": [
    "def the_oracle(my_input):\n",
    "    winner=7\n",
    "    if my_input is winner:\n",
    "        response = True\n",
    "    else:\n",
    "        response = False\n",
    "    return response"
   ]
  },
  {
   "cell_type": "code",
   "execution_count": 8,
   "id": "79c863aa-ab2e-44b7-98a1-a99409ef7f3d",
   "metadata": {},
   "outputs": [
    {
     "name": "stdout",
     "output_type": "stream",
     "text": [
      "index : 9  ,Oracle used :  10\n"
     ]
    }
   ],
   "source": [
    "for index, trail_number in enumerate(my_list):\n",
    "    if the_oracle(trail_number) is True:\n",
    "        print(\"index :\",index,\" ,Oracle used : \",index+1) "
   ]
  },
  {
   "cell_type": "code",
   "execution_count": 9,
   "id": "8ee0ce59-a67f-4b49-a824-bed8803d156e",
   "metadata": {},
   "outputs": [
    {
     "data": {
      "image/png": "[encoded data removed]",
      "text/plain": [
       "<Figure size 203.683x200.667 with 1 Axes>"
      ]
     },
     "execution_count": 9,
     "metadata": {},
     "output_type": "execute_result"
    }
   ],
   "source": [
    "from qiskit import *\n",
    "import matplotlib.pyplot as plt\n",
    "import numpy as np\n",
    "from qiskit_aer import Aer\n",
    "\n",
    "#define the oracle circuit\n",
    "oracle = QuantumCircuit(2, name=\"oracle\")\n",
    "oracle.cz(0,1)\n",
    "oracle.to_gate()\n",
    "\n",
    "oracle.draw(\"mpl\")"
   ]
  },
  {
   "cell_type": "code",
   "execution_count": 10,
   "id": "832fb54c-951c-4bc8-8767-1c33178eef37",
   "metadata": {},
   "outputs": [
    {
     "data": {
      "image/png": "[encoded data removed]",
      "text/plain": [
       "<Figure size 370.906x284.278 with 1 Axes>"
      ]
     },
     "execution_count": 10,
     "metadata": {},
     "output_type": "execute_result"
    }
   ],
   "source": [
    "grover_circ = QuantumCircuit(2,2)\n",
    "grover_circ.h([0,1])\n",
    "grover_circ.append(oracle,[0,1])\n",
    "grover_circ.draw('mpl')"
   ]
  },
  {
   "cell_type": "code",
   "execution_count": 11,
   "id": "5d976163-56c3-4f13-a9af-063622344a30",
   "metadata": {},
   "outputs": [
    {
     "name": "stderr",
     "output_type": "stream",
     "text": [
      "/Users/murshed/Documents/venv/lib/python3.9/site-packages/urllib3/__init__.py:35: NotOpenSSLWarning: urllib3 v2 only supports OpenSSL 1.1.1+, currently the 'ssl' module is compiled with 'LibreSSL 2.8.3'. See: https://github.com/urllib3/urllib3/issues/3020\n",
      "  warnings.warn(\n"
     ]
    },
    {
     "name": "stdout",
     "output_type": "stream",
     "text": [
      "     ┌───┐   \n",
      "q_0: ┤ H ├─■─\n",
      "     ├───┤ │ \n",
      "q_1: ┤ H ├─■─\n",
      "     └───┘   \n",
      "c: 2/════════\n",
      "             \n"
     ]
    },
    {
     "data": {
      "text/plain": [
       "array([ 0.5+0.j,  0.5+0.j,  0.5+0.j, -0.5+0.j])"
      ]
     },
     "execution_count": 11,
     "metadata": {},
     "output_type": "execute_result"
    }
   ],
   "source": [
    "backend = Aer.get_backend(\"statevector_simulator\")\n",
    "# Simulate the circuit\n",
    "t_qc = transpile(grover_circ, backend)\n",
    "print(t_qc)\n",
    "result = backend.run(t_qc).result()\n",
    "sv = result.get_statevector()\n",
    "np.around(sv,2)\n",
    "\n",
    "\n",
    "# counts = result.get_counts()\n",
    "\n",
    "# print(counts)\n",
    "\n",
    "# # plot the results\n",
    "# from qiskit.visualization import plot_histogram\n",
    "# plot_histogram(counts)"
   ]
  },
  {
   "cell_type": "code",
   "execution_count": 12,
   "id": "8f509420-31b9-48f3-acf3-750e3924ab14",
   "metadata": {},
   "outputs": [
    {
     "data": {
      "image/png": "[encoded data removed]",
      "text/plain": [
       "<Figure size 454.517x200.667 with 1 Axes>"
      ]
     },
     "execution_count": 12,
     "metadata": {},
     "output_type": "execute_result"
    }
   ],
   "source": [
    "reflection = QuantumCircuit(2, name=\"reflection\")\n",
    "reflection.h([0,1])\n",
    "reflection.z([0,1])\n",
    "reflection.cz(0,1)\n",
    "reflection.h([0,1])\n",
    "reflection.to_gate()\n",
    "reflection.draw(\"mpl\")"
   ]
  },
  {
   "cell_type": "code",
   "execution_count": 13,
   "id": "deec349f-5c97-4616-90be-4eca9f52b9c3",
   "metadata": {},
   "outputs": [
    {
     "data": {
      "image/png": "[encoded data removed]",
      "text/plain": [
       "<Figure size 705.35x284.278 with 1 Axes>"
      ]
     },
     "execution_count": 13,
     "metadata": {},
     "output_type": "execute_result"
    }
   ],
   "source": [
    "\n",
    "grover_circ = QuantumCircuit(2,2)\n",
    "grover_circ.h([0,1])\n",
    "grover_circ.append(oracle,[0,1])\n",
    "grover_circ.append(reflection,[0,1])\n",
    "grover_circ.measure([0,1],[0,1])\n",
    "grover_circ.draw('mpl')"
   ]
  },
  {
   "cell_type": "code",
   "execution_count": 14,
   "id": "f49dacab-1f7a-440c-a34d-16f93891cb07",
   "metadata": {},
   "outputs": [
    {
     "name": "stdout",
     "output_type": "stream",
     "text": [
      "     ┌───┐   ┌───────────┐   ┌───┐┌─┐   \n",
      "q_0: ┤ H ├─■─┤ U2(-π,-π) ├─■─┤ H ├┤M├───\n",
      "     ├───┤ │ ├───────────┤ │ ├───┤└╥┘┌─┐\n",
      "q_1: ┤ H ├─■─┤ U2(-π,-π) ├─■─┤ H ├─╫─┤M├\n",
      "     └───┘   └───────────┘   └───┘ ║ └╥┘\n",
      "c: 2/══════════════════════════════╩══╩═\n",
      "                                   0  1 \n",
      "Result(backend_name='qasm_simulator', backend_version='0.17.0', qobj_id='', job_id='e2badf68-fefa-44a1-a10a-b76503ce62a3', success=True, results=[ExperimentResult(shots=1024, success=True, meas_level=2, data=ExperimentResultData(counts={'0x3': 1024}), header=QobjExperimentHeader(creg_sizes=[['c', 2]], global_phase=0.0, memory_slots=2, n_qubits=2, name='circuit-178', qreg_sizes=[['q', 2]], metadata={}), status=DONE, seed_simulator=1444993408, metadata={'num_bind_params': 1, 'runtime_parameter_bind': False, 'parallel_state_update': 11, 'parallel_shots': 1, 'sample_measure_time': 0.000932042, 'noise': 'ideal', 'batched_shots_optimization': False, 'remapped_qubits': False, 'active_input_qubits': [0, 1], 'device': 'CPU', 'time_taken': 0.002724958, 'measure_sampling': True, 'num_clbits': 2, 'max_memory_mb': 18432, 'input_qubit_map': [[1, 1], [0, 0]], 'num_qubits': 2, 'method': 'statevector', 'required_memory_mb': 1, 'fusion': {'enabled': True, 'threshold': 14, 'applied': False, 'max_fused_qubits': 5}}, time_taken=0.002724958)], date=2025-03-22T04:50:29.266839, status=COMPLETED, header=None, metadata={'time_taken_parameter_binding': 6.417e-06, 'max_memory_mb': 18432, 'time_taken_execute': 0.002746875, 'omp_enabled': True, 'max_gpu_memory_mb': 0, 'parallel_experiments': 1}, time_taken=0.003030061721801758)\n"
     ]
    },
    {
     "data": {
      "image/png": "[encoded data removed]",
      "text/plain": [
       "<Figure size 640x480 with 1 Axes>"
      ]
     },
     "execution_count": 14,
     "metadata": {},
     "output_type": "execute_result"
    }
   ],
   "source": [
    "backend = Aer.get_backend(\"qasm_simulator\")\n",
    "# Simulate the circuit\n",
    "t_qc = transpile(grover_circ, backend)\n",
    "print(t_qc)\n",
    "result = backend.run(t_qc).result()\n",
    "print(result)\n",
    "\n",
    "counts = result.get_counts()\n",
    "\n",
    "# plot the results\n",
    "from qiskit.visualization import plot_histogram\n",
    "plot_histogram(counts)"
   ]
  },
  {
   "cell_type": "code",
   "execution_count": 15,
   "id": "f49a9e06-4d17-46ef-9dbd-5ee3962b89ea",
   "metadata": {},
   "outputs": [
    {
     "ename": "NameError",
     "evalue": "name 'qc' is not defined",
     "output_type": "error",
     "traceback": [
      "\u001b[0;31m---------------------------------------------------------------------------\u001b[0m",
      "\u001b[0;31mNameError\u001b[0m                                 Traceback (most recent call last)",
      "Cell \u001b[0;32mIn[15], line 9\u001b[0m\n\u001b[1;32m      7\u001b[0m \u001b[38;5;66;03m# Convert to an ISA circuit and layout-mapped observables.\u001b[39;00m\n\u001b[1;32m      8\u001b[0m pm \u001b[38;5;241m=\u001b[39m generate_preset_pass_manager(backend\u001b[38;5;241m=\u001b[39mbackend, optimization_level\u001b[38;5;241m=\u001b[39m\u001b[38;5;241m1\u001b[39m)\n\u001b[0;32m----> 9\u001b[0m isa_circuit \u001b[38;5;241m=\u001b[39m pm\u001b[38;5;241m.\u001b[39mrun(\u001b[43mqc\u001b[49m)\n\u001b[1;32m     11\u001b[0m isa_circuit\u001b[38;5;241m.\u001b[39mdraw(\u001b[38;5;124m\"\u001b[39m\u001b[38;5;124mmpl\u001b[39m\u001b[38;5;124m\"\u001b[39m, idle_wires\u001b[38;5;241m=\u001b[39m\u001b[38;5;28;01mFalse\u001b[39;00m)\n",
      "\u001b[0;31mNameError\u001b[0m: name 'qc' is not defined"
     ]
    }
   ],
   "source": [
    "from qiskit_ibm_runtime import QiskitRuntimeService\n",
    " \n",
    "service = QiskitRuntimeService()\n",
    " \n",
    "backend = service.least_busy(simulator=False, operational=True)\n",
    " \n",
    "# Convert to an ISA circuit and layout-mapped observables.\n",
    "pm = generate_preset_pass_manager(backend=backend, optimization_level=1)\n",
    "isa_circuit = pm.run(qc)\n",
    " \n",
    "isa_circuit.draw(\"mpl\", idle_wires=False)"
   ]
  },
  {
   "cell_type": "code",
   "execution_count": null,
   "id": "8acb8652-be3d-4a6f-b463-2cdfc31bc286",
   "metadata": {},
   "outputs": [],
   "source": [
    "grover_circ = QuantumCircuit(2,2)\n",
    "grover_circ.h([0,1])\n",
    "grover_circ.append(oracle,[0,1])\n",
    "grover_circ.draw('mpl')\n",
    "\n",
    "backend = Aer.get_backend(\"statevector_simulator\")\n",
    "# Simulate the circuit\n",
    "t_qc = transpile(grover_circ, backend)\n",
    "\n",
    "result = backend.run(t_qc).result()\n",
    "sv = result.get_statevector()\n",
    "np.around(sv,2)"
   ]
  },
  {
   "cell_type": "code",
   "execution_count": 24,
   "id": "9af5021a-4ef1-491c-9141-111bc6f5d71c",
   "metadata": {},
   "outputs": [
    {
     "name": "stdout",
     "output_type": "stream",
     "text": [
      "     ┌───┐                     \n",
      "q_0: ┤ X ├──■─────────■────────\n",
      "     ├───┤  │         │        \n",
      "q_1: ┤ X ├──┼────■────■────────\n",
      "     └───┘┌─┴─┐┌─┴─┐  │  ┌─┐   \n",
      "q_2: ─────┤ X ├┤ X ├──┼──┤M├───\n",
      "          └───┘└───┘┌─┴─┐└╥┘┌─┐\n",
      "q_3: ───────────────┤ X ├─╫─┤M├\n",
      "                    └───┘ ║ └╥┘\n",
      "c: 2/═════════════════════╩══╩═\n",
      "                          0  1 \n"
     ]
    },
    {
     "data": {
      "image/png": "[encoded data removed]",
      "text/plain": [
       "<Figure size 640x480 with 1 Axes>"
      ]
     },
     "execution_count": 24,
     "metadata": {},
     "output_type": "execute_result"
    }
   ],
   "source": [
    "test_qc = QuantumCircuit(4, 2)\n",
    "\n",
    "# First, our circuit should encode an input (here '11')\n",
    "test_qc.x(1)\n",
    "test_qc.x(0)\n",
    "\n",
    "# Next, it should carry out the adder circuit we created\n",
    "test_qc.cx(0,2)\n",
    "test_qc.cx(1,2)\n",
    "test_qc.ccx(0,1,3)\n",
    "\n",
    "# Finally, we will measure the bottom two qubits to extract the output\n",
    "test_qc.measure(2,0)\n",
    "test_qc.measure(3,1)\n",
    "test_qc.draw()\n",
    "print(test_qc)\n",
    "\n",
    "backend = Aer.get_backend(\"qasm_simulator\")\n",
    "# Simulate the circuit\n",
    "t_qc = transpile(test_qc, backend)\n",
    "result = backend.run(t_qc).result()\n",
    "\n",
    "counts = result.get_counts()\n",
    "\n",
    "# plot the results\n",
    "from qiskit.visualization import plot_histogram\n",
    "plot_histogram(counts)"
   ]
  },
  {
   "cell_type": "code",
   "execution_count": null,
   "id": "60ab0059-5c1a-46f6-b353-dab845762e3a",
   "metadata": {},
   "outputs": [],
   "source": []
  }
 ],
 "metadata": {
  "kernelspec": {
   "display_name": "Python 3 (ipykernel)",
   "language": "python",
   "name": "python3"
  },
  "language_info": {
   "codemirror_mode": {
    "name": "ipython",
    "version": 3
   },
   "file_extension": ".py",
   "mimetype": "text/x-python",
   "name": "python",
   "nbconvert_exporter": "python",
   "pygments_lexer": "ipython3",
   "version": "3.9.6"
  }
 },
 "nbformat": 4,
 "nbformat_minor": 5
}
